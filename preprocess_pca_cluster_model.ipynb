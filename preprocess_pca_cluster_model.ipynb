{
 "cells": [
  {
   "cell_type": "code",
   "execution_count": 1,
   "metadata": {},
   "outputs": [],
   "source": [
    "import pandas as pd\n",
    "import numpy as np\n",
    "import matplotlib.pyplot as plt\n",
    "import json\n",
    "%matplotlib inline\n",
    "import re\n",
    "\n",
    "import os\n",
    "\n",
    "import scipy.cluster.hierarchy as shc"
   ]
  },
  {
   "cell_type": "code",
   "execution_count": 2,
   "metadata": {},
   "outputs": [],
   "source": [
    "#load file\n",
    "data = pd.read_json('dataset/watches_specs_final.json')\n",
    "#data.head() "
   ]
  },
  {
   "cell_type": "code",
   "execution_count": 3,
   "metadata": {},
   "outputs": [],
   "source": [
    "numeric_data=data[[\"id\",\"Price\",\"Case Diameter\",\"Case Thickness\",\"Band Size\",\"Band Widht\",\"Item Weight\",\"Water Resistant Depth\"]]\n",
    "categorical_data=data[[\"id\",\"Brand, Seller, or Collection Name\",\"Item Shape\",\"Dial Window Material Type\",\"Display Type\",\"Clasp\",\"Case Material\",\"Band Material\",\n",
    "                        \"Band Color\",\"Dial Color\",\"Bezel Material\",\"Bezel Function\",\"Calendar\",\"Movement\",\"Gender Type\"]]\n",
    "\n",
    "#categorical_data.head()"
   ]
  },
  {
   "cell_type": "code",
   "execution_count": 4,
   "metadata": {},
   "outputs": [
    {
     "data": {
      "text/html": [
       "<div>\n",
       "<style scoped>\n",
       "    .dataframe tbody tr th:only-of-type {\n",
       "        vertical-align: middle;\n",
       "    }\n",
       "\n",
       "    .dataframe tbody tr th {\n",
       "        vertical-align: top;\n",
       "    }\n",
       "\n",
       "    .dataframe thead th {\n",
       "        text-align: right;\n",
       "    }\n",
       "</style>\n",
       "<table border=\"1\" class=\"dataframe\">\n",
       "  <thead>\n",
       "    <tr style=\"text-align: right;\">\n",
       "      <th>col_0</th>\n",
       "      <th>count</th>\n",
       "    </tr>\n",
       "    <tr>\n",
       "      <th>Item Shape</th>\n",
       "      <th></th>\n",
       "    </tr>\n",
       "  </thead>\n",
       "  <tbody>\n",
       "    <tr>\n",
       "      <th>Round</th>\n",
       "      <td>1384</td>\n",
       "    </tr>\n",
       "    <tr>\n",
       "      <th>Square</th>\n",
       "      <td>66</td>\n",
       "    </tr>\n",
       "    <tr>\n",
       "      <th>Rectangular</th>\n",
       "      <td>58</td>\n",
       "    </tr>\n",
       "    <tr>\n",
       "      <th>Tonneau</th>\n",
       "      <td>26</td>\n",
       "    </tr>\n",
       "    <tr>\n",
       "      <th>Oval</th>\n",
       "      <td>17</td>\n",
       "    </tr>\n",
       "    <tr>\n",
       "      <th>Octagonal</th>\n",
       "      <td>11</td>\n",
       "    </tr>\n",
       "    <tr>\n",
       "      <th>Round, Square, Octagonal</th>\n",
       "      <td>3</td>\n",
       "    </tr>\n",
       "    <tr>\n",
       "      <th>Asymmetrical</th>\n",
       "      <td>2</td>\n",
       "    </tr>\n",
       "    <tr>\n",
       "      <th>Triangular</th>\n",
       "      <td>2</td>\n",
       "    </tr>\n",
       "    <tr>\n",
       "      <th>box</th>\n",
       "      <td>1</td>\n",
       "    </tr>\n",
       "    <tr>\n",
       "      <th>roundr</th>\n",
       "      <td>1</td>\n",
       "    </tr>\n",
       "    <tr>\n",
       "      <th>reqtangle</th>\n",
       "      <td>1</td>\n",
       "    </tr>\n",
       "    <tr>\n",
       "      <th>oblong</th>\n",
       "      <td>1</td>\n",
       "    </tr>\n",
       "    <tr>\n",
       "      <th>Square, Rectangular</th>\n",
       "      <td>1</td>\n",
       "    </tr>\n",
       "    <tr>\n",
       "      <th>Watch band and Back cover Comfortable Slim Leather Band Hole buckle designer is easy to put on or take off and it has a very comfortable wearing experience, watch band length:8.7in width:0.5in and smooth stainless steel back cover.</th>\n",
       "      <td>1</td>\n",
       "    </tr>\n",
       "    <tr>\n",
       "      <th>Round, Square</th>\n",
       "      <td>1</td>\n",
       "    </tr>\n",
       "    <tr>\n",
       "      <th>Round, Octagonal</th>\n",
       "      <td>1</td>\n",
       "    </tr>\n",
       "    <tr>\n",
       "      <th>圆形</th>\n",
       "      <td>1</td>\n",
       "    </tr>\n",
       "  </tbody>\n",
       "</table>\n",
       "</div>"
      ],
      "text/plain": [
       "col_0                                               count\n",
       "Item Shape                                               \n",
       "Round                                                1384\n",
       "Square                                                 66\n",
       "Rectangular                                            58\n",
       "Tonneau                                                26\n",
       "Oval                                                   17\n",
       "Octagonal                                              11\n",
       "Round, Square, Octagonal                                3\n",
       "Asymmetrical                                            2\n",
       "Triangular                                              2\n",
       "box                                                     1\n",
       "roundr                                                  1\n",
       "reqtangle                                               1\n",
       "oblong                                                  1\n",
       "Square, Rectangular                                     1\n",
       "Watch band and Back cover Comfortable Slim Leat...      1\n",
       "Round, Square                                           1\n",
       "Round, Octagonal                                        1\n",
       "圆形                                                      1"
      ]
     },
     "execution_count": 4,
     "metadata": {},
     "output_type": "execute_result"
    }
   ],
   "source": [
    "#crosstabulatoin matrix\n",
    "pd.crosstab(index=categorical_data[\"Item Shape\"], columns='count').sort_values(\"count\",ascending = False)\n"
   ]
  },
  {
   "cell_type": "code",
   "execution_count": 5,
   "metadata": {},
   "outputs": [
    {
     "data": {
      "text/html": [
       "<div>\n",
       "<style scoped>\n",
       "    .dataframe tbody tr th:only-of-type {\n",
       "        vertical-align: middle;\n",
       "    }\n",
       "\n",
       "    .dataframe tbody tr th {\n",
       "        vertical-align: top;\n",
       "    }\n",
       "\n",
       "    .dataframe thead th {\n",
       "        text-align: right;\n",
       "    }\n",
       "</style>\n",
       "<table border=\"1\" class=\"dataframe\">\n",
       "  <thead>\n",
       "    <tr style=\"text-align: right;\">\n",
       "      <th></th>\n",
       "      <th>id</th>\n",
       "      <th>Price</th>\n",
       "      <th>Band Widht</th>\n",
       "      <th>Item Weight</th>\n",
       "    </tr>\n",
       "  </thead>\n",
       "  <tbody>\n",
       "    <tr>\n",
       "      <th>count</th>\n",
       "      <td>1806.000000</td>\n",
       "      <td>1806.000000</td>\n",
       "      <td>1619.000000</td>\n",
       "      <td>1121.000000</td>\n",
       "    </tr>\n",
       "    <tr>\n",
       "      <th>mean</th>\n",
       "      <td>903.500000</td>\n",
       "      <td>232.409701</td>\n",
       "      <td>18.952688</td>\n",
       "      <td>158.764690</td>\n",
       "    </tr>\n",
       "    <tr>\n",
       "      <th>std</th>\n",
       "      <td>521.491611</td>\n",
       "      <td>592.762127</td>\n",
       "      <td>10.206913</td>\n",
       "      <td>209.383915</td>\n",
       "    </tr>\n",
       "    <tr>\n",
       "      <th>min</th>\n",
       "      <td>1.000000</td>\n",
       "      <td>7.990000</td>\n",
       "      <td>0.800000</td>\n",
       "      <td>0.010000</td>\n",
       "    </tr>\n",
       "    <tr>\n",
       "      <th>25%</th>\n",
       "      <td>452.250000</td>\n",
       "      <td>58.992500</td>\n",
       "      <td>15.724000</td>\n",
       "      <td>51.029142</td>\n",
       "    </tr>\n",
       "    <tr>\n",
       "      <th>50%</th>\n",
       "      <td>903.500000</td>\n",
       "      <td>119.310000</td>\n",
       "      <td>20.000000</td>\n",
       "      <td>96.388379</td>\n",
       "    </tr>\n",
       "    <tr>\n",
       "      <th>75%</th>\n",
       "      <td>1354.750000</td>\n",
       "      <td>276.370000</td>\n",
       "      <td>22.000000</td>\n",
       "      <td>199.864138</td>\n",
       "    </tr>\n",
       "    <tr>\n",
       "      <th>max</th>\n",
       "      <td>1806.000000</td>\n",
       "      <td>13495.000000</td>\n",
       "      <td>200.000000</td>\n",
       "      <td>4082.331330</td>\n",
       "    </tr>\n",
       "  </tbody>\n",
       "</table>\n",
       "</div>"
      ],
      "text/plain": [
       "                id         Price   Band Widht  Item Weight\n",
       "count  1806.000000   1806.000000  1619.000000  1121.000000\n",
       "mean    903.500000    232.409701    18.952688   158.764690\n",
       "std     521.491611    592.762127    10.206913   209.383915\n",
       "min       1.000000      7.990000     0.800000     0.010000\n",
       "25%     452.250000     58.992500    15.724000    51.029142\n",
       "50%     903.500000    119.310000    20.000000    96.388379\n",
       "75%    1354.750000    276.370000    22.000000   199.864138\n",
       "max    1806.000000  13495.000000   200.000000  4082.331330"
      ]
     },
     "execution_count": 5,
     "metadata": {},
     "output_type": "execute_result"
    }
   ],
   "source": [
    "#descriptive_statistics\n",
    "numeric_data.describe()"
   ]
  },
  {
   "cell_type": "code",
   "execution_count": 6,
   "metadata": {},
   "outputs": [
    {
     "data": {
      "text/html": [
       "<div>\n",
       "<style scoped>\n",
       "    .dataframe tbody tr th:only-of-type {\n",
       "        vertical-align: middle;\n",
       "    }\n",
       "\n",
       "    .dataframe tbody tr th {\n",
       "        vertical-align: top;\n",
       "    }\n",
       "\n",
       "    .dataframe thead th {\n",
       "        text-align: right;\n",
       "    }\n",
       "</style>\n",
       "<table border=\"1\" class=\"dataframe\">\n",
       "  <thead>\n",
       "    <tr style=\"text-align: right;\">\n",
       "      <th></th>\n",
       "      <th>id</th>\n",
       "      <th>Price</th>\n",
       "      <th>Case Diameter</th>\n",
       "      <th>Case Thickness</th>\n",
       "      <th>Band Widht</th>\n",
       "      <th>Item Weight</th>\n",
       "      <th>Water Resistant Depth</th>\n",
       "    </tr>\n",
       "  </thead>\n",
       "  <tbody>\n",
       "    <tr>\n",
       "      <th>1</th>\n",
       "      <td>2</td>\n",
       "      <td>196.62</td>\n",
       "      <td>44.0</td>\n",
       "      <td>12.0</td>\n",
       "      <td>22.0</td>\n",
       "      <td>79.945655</td>\n",
       "      <td>30.0</td>\n",
       "    </tr>\n",
       "    <tr>\n",
       "      <th>3</th>\n",
       "      <td>4</td>\n",
       "      <td>232.68</td>\n",
       "      <td>45.0</td>\n",
       "      <td>11.02</td>\n",
       "      <td>22.0</td>\n",
       "      <td>453.025379</td>\n",
       "      <td>100.584</td>\n",
       "    </tr>\n",
       "    <tr>\n",
       "      <th>4</th>\n",
       "      <td>5</td>\n",
       "      <td>1250.00</td>\n",
       "      <td>44.0</td>\n",
       "      <td>12.5</td>\n",
       "      <td>24.0</td>\n",
       "      <td>449.906932</td>\n",
       "      <td>50.292</td>\n",
       "    </tr>\n",
       "    <tr>\n",
       "      <th>7</th>\n",
       "      <td>8</td>\n",
       "      <td>756.98</td>\n",
       "      <td>44.5</td>\n",
       "      <td>17.55</td>\n",
       "      <td>22.0</td>\n",
       "      <td>174.066072</td>\n",
       "      <td>50.0</td>\n",
       "    </tr>\n",
       "    <tr>\n",
       "      <th>11</th>\n",
       "      <td>12</td>\n",
       "      <td>95.00</td>\n",
       "      <td>36.0</td>\n",
       "      <td>9.6</td>\n",
       "      <td>17.0</td>\n",
       "      <td>39.689332</td>\n",
       "      <td>50.292</td>\n",
       "    </tr>\n",
       "    <tr>\n",
       "      <th>...</th>\n",
       "      <td>...</td>\n",
       "      <td>...</td>\n",
       "      <td>...</td>\n",
       "      <td>...</td>\n",
       "      <td>...</td>\n",
       "      <td>...</td>\n",
       "      <td>...</td>\n",
       "    </tr>\n",
       "    <tr>\n",
       "      <th>1798</th>\n",
       "      <td>1799</td>\n",
       "      <td>349.00</td>\n",
       "      <td>25.0</td>\n",
       "      <td>8.0</td>\n",
       "      <td>18.0</td>\n",
       "      <td>1360.777110</td>\n",
       "      <td>50.0</td>\n",
       "    </tr>\n",
       "    <tr>\n",
       "      <th>1799</th>\n",
       "      <td>1800</td>\n",
       "      <td>889.85</td>\n",
       "      <td>27.0</td>\n",
       "      <td>7.0</td>\n",
       "      <td>14.0</td>\n",
       "      <td>453.592370</td>\n",
       "      <td>50.292</td>\n",
       "    </tr>\n",
       "    <tr>\n",
       "      <th>1800</th>\n",
       "      <td>1801</td>\n",
       "      <td>104.49</td>\n",
       "      <td>25.5</td>\n",
       "      <td>7.1</td>\n",
       "      <td>13.3</td>\n",
       "      <td>34.019428</td>\n",
       "      <td>50.292</td>\n",
       "    </tr>\n",
       "    <tr>\n",
       "      <th>1803</th>\n",
       "      <td>1804</td>\n",
       "      <td>156.18</td>\n",
       "      <td>32.0</td>\n",
       "      <td>8.45</td>\n",
       "      <td>12.0</td>\n",
       "      <td>997.903214</td>\n",
       "      <td>30.0</td>\n",
       "    </tr>\n",
       "    <tr>\n",
       "      <th>1805</th>\n",
       "      <td>1806</td>\n",
       "      <td>204.00</td>\n",
       "      <td>30.0</td>\n",
       "      <td>6.0</td>\n",
       "      <td>15.0</td>\n",
       "      <td>58.116522</td>\n",
       "      <td>30.48</td>\n",
       "    </tr>\n",
       "  </tbody>\n",
       "</table>\n",
       "<p>970 rows × 7 columns</p>\n",
       "</div>"
      ],
      "text/plain": [
       "        id    Price Case Diameter Case Thickness  Band Widht  Item Weight  \\\n",
       "1        2   196.62          44.0           12.0        22.0    79.945655   \n",
       "3        4   232.68          45.0          11.02        22.0   453.025379   \n",
       "4        5  1250.00          44.0           12.5        24.0   449.906932   \n",
       "7        8   756.98          44.5          17.55        22.0   174.066072   \n",
       "11      12    95.00          36.0            9.6        17.0    39.689332   \n",
       "...    ...      ...           ...            ...         ...          ...   \n",
       "1798  1799   349.00          25.0            8.0        18.0  1360.777110   \n",
       "1799  1800   889.85          27.0            7.0        14.0   453.592370   \n",
       "1800  1801   104.49          25.5            7.1        13.3    34.019428   \n",
       "1803  1804   156.18          32.0           8.45        12.0   997.903214   \n",
       "1805  1806   204.00          30.0            6.0        15.0    58.116522   \n",
       "\n",
       "     Water Resistant Depth  \n",
       "1                     30.0  \n",
       "3                  100.584  \n",
       "4                   50.292  \n",
       "7                     50.0  \n",
       "11                  50.292  \n",
       "...                    ...  \n",
       "1798                  50.0  \n",
       "1799                50.292  \n",
       "1800                50.292  \n",
       "1803                  30.0  \n",
       "1805                 30.48  \n",
       "\n",
       "[970 rows x 7 columns]"
      ]
     },
     "execution_count": 6,
     "metadata": {},
     "output_type": "execute_result"
    }
   ],
   "source": [
    "#new_data=numeric_data[numeric_data[\"Band Size\"]!=\"Mens-Standard\"]\n",
    "new_data=data[[\"id\",\"Price\",\"Case Diameter\",\"Case Thickness\",\"Band Widht\",\"Item Weight\",\"Water Resistant Depth\"]]\n",
    "new_data2=new_data.dropna()\n",
    "new_data2\n",
    "# len(new_data2)"
   ]
  },
  {
   "cell_type": "code",
   "execution_count": 7,
   "metadata": {},
   "outputs": [
    {
     "data": {
      "text/plain": [
       "0         2\n",
       "1         4\n",
       "2         5\n",
       "3         8\n",
       "4        12\n",
       "       ... \n",
       "965    1799\n",
       "966    1800\n",
       "967    1801\n",
       "968    1804\n",
       "969    1806\n",
       "Name: id, Length: 970, dtype: int64"
      ]
     },
     "execution_count": 7,
     "metadata": {},
     "output_type": "execute_result"
    }
   ],
   "source": [
    "# we normalize the data so that the scale of each variable is the same.\n",
    "# if the scale of the variables is not the same, the model might become biased towards the variables with a higher magnitude\n",
    "from sklearn.preprocessing import normalize\n",
    "n_data_scaled = normalize(new_data2)\n",
    "n_data_scaled = pd.DataFrame(new_data2, columns=new_data2.columns)\n",
    "n_data_scaled.reset_index(inplace=True)\n",
    "n_data_scaled.head()\n",
    "n_data_scaled[\"id\"]"
   ]
  },
  {
   "cell_type": "markdown",
   "metadata": {},
   "source": [
    "## PCA"
   ]
  },
  {
   "cell_type": "code",
   "execution_count": 9,
   "metadata": {},
   "outputs": [
    {
     "data": {
      "text/plain": [
       "Index(['index', 'id', 'Price', 'Case Diameter', 'Case Thickness', 'Band Widht',\n",
       "       'Item Weight', 'Water Resistant Depth'],\n",
       "      dtype='object')"
      ]
     },
     "execution_count": 9,
     "metadata": {},
     "output_type": "execute_result"
    }
   ],
   "source": [
    "# Degine the columns\n",
    "n_data_scaled.columns"
   ]
  },
  {
   "cell_type": "code",
   "execution_count": 10,
   "metadata": {},
   "outputs": [
    {
     "name": "stdout",
     "output_type": "stream",
     "text": [
      "For 4 features we have more than 99% information kept!\n"
     ]
    },
    {
     "data": {
      "image/png": "[encoded data removed]",
      "text/plain": [
       "<Figure size 432x288 with 1 Axes>"
      ]
     },
     "metadata": {
      "needs_background": "light"
     },
     "output_type": "display_data"
    }
   ],
   "source": [
    "# requires scaled data\n",
    "\n",
    "from sklearn.decomposition import PCA\n",
    "\n",
    "pca = PCA(random_state=1)\n",
    "\n",
    "# Determine transformed features\n",
    "pca.fit(n_data_scaled[['Price', 'Case Diameter', 'Case Thickness', 'Band Widht', 'Item Weight', 'Water Resistant Depth']])\n",
    "\n",
    "# Determine explained variance using explained_variance_ration_ attribute\n",
    "exp_var_pca = pca.explained_variance_ratio_\n",
    "\n",
    "# Cumulative sum of eigenvalues; This will be used to create step plot\n",
    "# for visualizing the variance explained by each principal component.\n",
    "cum_sum_eigenvalues = np.cumsum(exp_var_pca)\n",
    "\n",
    "# Choose minimum number of pc's to keep more thn 99% information\n",
    "for n_components, eigenvalue in enumerate(cum_sum_eigenvalues):\n",
    "    if eigenvalue > 0.99:\n",
    "        best_n_components = n_components + 1\n",
    "        print(f'For {best_n_components} features we have more than 99% information kept!')\n",
    "        break\n",
    "\n",
    "# Create the visualization plot\n",
    "plt.bar(range(0,len(exp_var_pca)), exp_var_pca, alpha=0.5, align='center', label='Individual explained variance')\n",
    "plt.step(range(0,len(cum_sum_eigenvalues)), cum_sum_eigenvalues, where='mid',label='Cumulative explained variance')\n",
    "plt.ylabel('Explained variance ratio')\n",
    "plt.xlabel('Principal component index')\n",
    "plt.legend(loc='center right')\n",
    "plt.tight_layout()\n",
    "plt.show()\n"
   ]
  },
  {
   "cell_type": "code",
   "execution_count": 11,
   "metadata": {},
   "outputs": [
    {
     "data": {
      "text/html": [
       "<div>\n",
       "<style scoped>\n",
       "    .dataframe tbody tr th:only-of-type {\n",
       "        vertical-align: middle;\n",
       "    }\n",
       "\n",
       "    .dataframe tbody tr th {\n",
       "        vertical-align: top;\n",
       "    }\n",
       "\n",
       "    .dataframe thead th {\n",
       "        text-align: right;\n",
       "    }\n",
       "</style>\n",
       "<table border=\"1\" class=\"dataframe\">\n",
       "  <thead>\n",
       "    <tr style=\"text-align: right;\">\n",
       "      <th></th>\n",
       "      <th>pc_1</th>\n",
       "      <th>pc_2</th>\n",
       "      <th>pc_3</th>\n",
       "      <th>pc_4</th>\n",
       "    </tr>\n",
       "  </thead>\n",
       "  <tbody>\n",
       "    <tr>\n",
       "      <th>0</th>\n",
       "      <td>1264.589030</td>\n",
       "      <td>-120.190093</td>\n",
       "      <td>-49.626691</td>\n",
       "      <td>-76.059050</td>\n",
       "    </tr>\n",
       "    <tr>\n",
       "      <th>1</th>\n",
       "      <td>1272.874934</td>\n",
       "      <td>110.120349</td>\n",
       "      <td>247.018185</td>\n",
       "      <td>-10.141114</td>\n",
       "    </tr>\n",
       "    <tr>\n",
       "      <th>2</th>\n",
       "      <td>1321.862876</td>\n",
       "      <td>966.447676</td>\n",
       "      <td>-299.876118</td>\n",
       "      <td>-61.421342</td>\n",
       "    </tr>\n",
       "    <tr>\n",
       "      <th>3</th>\n",
       "      <td>1287.058003</td>\n",
       "      <td>403.397552</td>\n",
       "      <td>-269.497858</td>\n",
       "      <td>-57.519052</td>\n",
       "    </tr>\n",
       "    <tr>\n",
       "      <th>4</th>\n",
       "      <td>1245.010117</td>\n",
       "      <td>-226.513484</td>\n",
       "      <td>-29.316847</td>\n",
       "      <td>-55.524124</td>\n",
       "    </tr>\n",
       "  </tbody>\n",
       "</table>\n",
       "</div>"
      ],
      "text/plain": [
       "          pc_1        pc_2        pc_3       pc_4\n",
       "0  1264.589030 -120.190093  -49.626691 -76.059050\n",
       "1  1272.874934  110.120349  247.018185 -10.141114\n",
       "2  1321.862876  966.447676 -299.876118 -61.421342\n",
       "3  1287.058003  403.397552 -269.497858 -57.519052\n",
       "4  1245.010117 -226.513484  -29.316847 -55.524124"
      ]
     },
     "execution_count": 11,
     "metadata": {},
     "output_type": "execute_result"
    }
   ],
   "source": [
    "pca = PCA(n_components=best_n_components, random_state=1)\n",
    "\n",
    "n_data_pca = pca.fit_transform(n_data_scaled) # output np.array\n",
    "n_data_pca = pd.DataFrame(data=n_data_pca, columns=['pc_' + str(num+1) for num in range(best_n_components)])\n",
    "n_data_pca.head()"
   ]
  },
  {
   "cell_type": "code",
   "execution_count": null,
   "metadata": {},
   "outputs": [],
   "source": [
    "# insert id column\n",
    "\n",
    "n_data_pca.insert(0, 'id', n_data_scaled[\"id\"])\n",
    "n_data_pca.head()\n"
   ]
  },
  {
   "cell_type": "markdown",
   "metadata": {},
   "source": [
    "## Hierarchical Clustering"
   ]
  },
  {
   "cell_type": "code",
   "execution_count": null,
   "metadata": {},
   "outputs": [],
   "source": [
    "#-------------------------------hierarchical clustering--------------------\n",
    "plt.figure(figsize=(10, 7))  \n",
    "plt.title(\"Dendrograms\")  \n",
    "dend = shc.dendrogram(shc.linkage(n_data_pca, method='ward'))\n"
   ]
  },
  {
   "cell_type": "code",
   "execution_count": null,
   "metadata": {},
   "outputs": [],
   "source": [
    "#define the value of y, to prune the tree\n",
    "plt.figure(figsize=(10, 7))  \n",
    "plt.title(\"Dendrograms\")  \n",
    "dend = shc.dendrogram(shc.linkage(n_data_pca, method='ward'))\n",
    "plt.axhline(y=400, color='r', linestyle='--')"
   ]
  },
  {
   "cell_type": "code",
   "execution_count": null,
   "metadata": {},
   "outputs": [],
   "source": [
    "from sklearn.cluster import AgglomerativeClustering\n",
    "\n",
    "#define number of clusters\n",
    "cluster = AgglomerativeClustering(n_clusters=10, affinity='euclidean', linkage='ward')  \n"
   ]
  },
  {
   "cell_type": "code",
   "execution_count": null,
   "metadata": {},
   "outputs": [],
   "source": [
    "#save the clusters for each element on a new table\n",
    "cluster_table=cluster.fit_predict(n_data_scaled)\n",
    "print(cluster_table)"
   ]
  },
  {
   "cell_type": "code",
   "execution_count": null,
   "metadata": {},
   "outputs": [],
   "source": [
    "plt.figure(figsize=(10, 7))  \n",
    "plt.scatter(n_data_scaled['Price'], n_data_scaled['Item Weight'], c=cluster.labels_) "
   ]
  },
  {
   "cell_type": "code",
   "execution_count": null,
   "metadata": {},
   "outputs": [],
   "source": [
    "#create a new dataframe with the new column Class (due to clustering)\n",
    "clustered_data=n_data_scaled\n",
    "clustered_data[\"Class\"]=cluster_table\n",
    "\n",
    "#reset index to use the dataframe in for loops\n",
    "#clustered_data.reset_index(inplace=True)\n",
    "\n",
    "clustered_data"
   ]
  },
  {
   "cell_type": "code",
   "execution_count": null,
   "metadata": {},
   "outputs": [],
   "source": [
    "crosstab_class=pd.crosstab(index=clustered_data[\"Class\"],columns='count')\n",
    "print(crosstab_class)\n",
    "\n",
    "#create a folder for each class. The name of the folder will be tha name of the class\n",
    "for index in range(len(crosstab_class)):\n",
    "    os.mkdir(\"dataset/\"+str(index))"
   ]
  },
  {
   "cell_type": "code",
   "execution_count": null,
   "metadata": {},
   "outputs": [],
   "source": [
    "# for cluster_index in range(len(clustered_data)):\n",
    "#     print(clustered_data[\"Class\"][cluster_index])"
   ]
  },
  {
   "cell_type": "code",
   "execution_count": null,
   "metadata": {},
   "outputs": [],
   "source": [
    "import shutil\n",
    "\n",
    "#create folders for each class and copy the corresponding images\n",
    "\n",
    "original = 'dataset/images/'\n",
    "target = 'dataset/'\n",
    "\n",
    "for cluster_index in range(len(clustered_data)):\n",
    "    count_id=0\n",
    "    for data_index in range((len(data))):\n",
    "        if clustered_data[\"id\"][cluster_index]==data[\"id\"][data_index]:\n",
    "            try:\n",
    "                shutil.copyfile(original+data[\"Image Name\"][data_index], target+str(clustered_data[\"Class\"][cluster_index])+\"/\"+data[\"Image Name\"][data_index])\n",
    "            except:\n",
    "                print(\"Image Not Found:\",data[\"Image Name\"][data_index])\n",
    "            count_id+=1\n",
    "    print(count_id)"
   ]
  },
  {
   "cell_type": "markdown",
   "metadata": {},
   "source": [
    "## Split dataset into training and test sets"
   ]
  },
  {
   "cell_type": "code",
   "execution_count": null,
   "metadata": {},
   "outputs": [],
   "source": [
    "from os import walk\n",
    "import random\n",
    "import shutil\n",
    "\n",
    "for index in range(len(crosstab_class)):\n",
    "    im_dir=\"dataset/\"+str(index)\n",
    "    os.makedirs(\"dataset/split_data/train/\"+str(index))\n",
    "    os.makedirs(\"dataset/split_data/test/\"+str(index))\n",
    "\n",
    "    #create a list with the names of the images for each folder-class\n",
    "    item_list=[]\n",
    "    for (dirpath, dirnames, filenames) in walk(im_dir):\n",
    "        item_list.extend(filenames)\n",
    "        #print(len(item_list))\n",
    "        break\n",
    "\n",
    "    #shuffle the data to get a random sample\n",
    "    random.shuffle(item_list)\n",
    "    train_list=item_list[0:round(len(item_list)*0.7)] #70% of the data for training\n",
    "    test_list=item_list[len(train_list):len(item_list)] #30% of the data for testing\n",
    "\n",
    "    #copy the appropriate images to create the training and test sets\n",
    "    for train_index in range(len(train_list)):\n",
    "        shutil.copyfile(im_dir+\"/\"+train_list[train_index],\"dataset/split_data/train/\"+str(index)+\"/\"+ train_list[train_index])\n",
    "\n",
    "    for test_index in range(len(test_list)):\n",
    "        shutil.copyfile(im_dir+\"/\"+train_list[test_index],\"dataset/split_data/test/\"+str(index)+\"/\"+ test_list[test_index])"
   ]
  },
  {
   "cell_type": "markdown",
   "metadata": {},
   "source": [
    "# Model"
   ]
  },
  {
   "cell_type": "markdown",
   "metadata": {},
   "source": [
    "## Data Loader"
   ]
  },
  {
   "cell_type": "code",
   "execution_count": 12,
   "metadata": {},
   "outputs": [
    {
     "name": "stderr",
     "output_type": "stream",
     "text": [
      "c:\\Users\\pkatr\\miniconda3\\envs\\featScraper\\lib\\site-packages\\tqdm\\auto.py:22: TqdmWarning: IProgress not found. Please update jupyter and ipywidgets. See https://ipywidgets.readthedocs.io/en/stable/user_install.html\n",
      "  from .autonotebook import tqdm as notebook_tqdm\n"
     ]
    }
   ],
   "source": [
    "import torch\n",
    "import torchvision\n",
    "import torchvision.transforms as transforms \n",
    "from torch.utils.data import Dataset, DataLoader\n",
    "from skimage import io, transform\n",
    "import cv2"
   ]
  },
  {
   "cell_type": "code",
   "execution_count": null,
   "metadata": {},
   "outputs": [],
   "source": [
    "#testing the code\n",
    "path=\"dataset/split_data/train\"\n",
    "\n",
    "im_name=[]\n",
    "im_path=[]\n",
    "im_class=[]\n",
    "\n",
    "for filename in os.listdir(path):\n",
    "   # print(filename)\n",
    "   for image in os.listdir(path+\"/\"+str(filename)):\n",
    "      # print(image)\n",
    "      im_name.append(image)\n",
    "      im_path.append(path+\"/\"+str(filename)+\"/\"+image)\n",
    "      im_class.append(filename)\n",
    "\n",
    "\n",
    "for image in im_path:\n",
    "    img = cv2.imread(im_path[1])\n",
    "    if img.shape!=(585, 342,3):\n",
    "        print(img.shape)"
   ]
  },
  {
   "cell_type": "code",
   "execution_count": 31,
   "metadata": {},
   "outputs": [],
   "source": [
    "class ForTheWatch(Dataset):\n",
    "\n",
    "    def __init__(self, root_dir, transform=None):\n",
    "        \n",
    "        self.root_dir = root_dir\n",
    "        self.transform = transform\n",
    "\n",
    "        im_name=[]\n",
    "        self.im_path=[]\n",
    "        self.im_class=[]\n",
    "\n",
    "        for filename in os.listdir(root_dir):\n",
    "        # print(filename)\n",
    "            for image in os.listdir(root_dir+\"/\"+str(filename)):\n",
    "                # print(image)\n",
    "                im_name.append(image)\n",
    "                self.im_path.append(root_dir+\"/\"+str(filename)+\"/\"+image)\n",
    "                self.im_class.append(int(filename))\n",
    "\n",
    "        \n",
    "\n",
    "    def __len__(self):\n",
    "        return len(self.im_class)\n",
    "\n",
    "    def __getitem__(self, idx):\n",
    "        \n",
    "        img=cv2.imread(self.im_path[idx])\n",
    "\n",
    "        if self.transform:\n",
    "            img=self.transform(img)\n",
    "\n",
    "        return (img,self.im_class[idx])"
   ]
  },
  {
   "cell_type": "markdown",
   "metadata": {},
   "source": [
    "## Load and Normalize"
   ]
  },
  {
   "cell_type": "code",
   "execution_count": 32,
   "metadata": {},
   "outputs": [],
   "source": [
    "transform = transforms.Compose(\n",
    "    [transforms.ToTensor(),\n",
    "    transforms.Resize((292,171)),\n",
    "    transforms.Normalize((0.5, 0.5, 0.5), (0.5, 0.5, 0.5))])\n",
    "\n",
    "batch_size = 4\n",
    "\n",
    "# trainset = torchvision.datasets.CIFAR10(root='', train=True,\n",
    "#                                         download=True, transform=transform)\n",
    "\n",
    "trainset=ForTheWatch(root_dir=\"dataset/split_data/train\",transform=transform)\n",
    "\n",
    "#print(trainset.im_path)\n",
    "\n",
    "trainloader = torch.utils.data.DataLoader(trainset, batch_size=batch_size,\n",
    "                                          shuffle=True)\n",
    "\n",
    "# testset = torchvision.datasets.CIFAR10(root='./data', train=False,\n",
    "#                                        download=True, transform=transform)\n",
    "\n",
    "testset=ForTheWatch(root_dir=\"dataset/split_data/test\",transform=transform)\n",
    "\n",
    "testloader = torch.utils.data.DataLoader(testset, batch_size=batch_size,\n",
    "                                         shuffle=False)\n",
    "\n",
    "classes = tuple(str(num_class) for num_class in range(len(crosstab_class)))"
   ]
  },
  {
   "cell_type": "code",
   "execution_count": 35,
   "metadata": {},
   "outputs": [
    {
     "data": {
      "image/png": "[encoded data removed]",
      "text/plain": [
       "<Figure size 432x288 with 1 Axes>"
      ]
     },
     "metadata": {
      "needs_background": "light"
     },
     "output_type": "display_data"
    }
   ],
   "source": [
    "import matplotlib.pyplot as plt\n",
    "import numpy as np\n",
    "\n",
    "# functions to show an image\n",
    "\n",
    "def imshow(img):\n",
    "    img = img / 2 + 0.5     # unnormalize\n",
    "    npimg = img.numpy()\n",
    "    plt.imshow(np.transpose(npimg, (1, 2, 0)))\n",
    "    plt.show()\n",
    "\n",
    "\n",
    "# get some random training images\n",
    "dataiter = iter(trainloader)\n",
    "images, labels = dataiter.next()\n",
    "\n",
    "# show images\n",
    "imshow(torchvision.utils.make_grid(images))\n",
    "# print labels\n",
    "# print(' '.join(f'{classes[labels[j]]:5s}' for j in range(batch_size)))"
   ]
  },
  {
   "attachments": {},
   "cell_type": "markdown",
   "metadata": {},
   "source": [
    "## Define the CNN"
   ]
  },
  {
   "cell_type": "code",
   "execution_count": 18,
   "metadata": {},
   "outputs": [],
   "source": [
    "import torch.nn as nn\n",
    "import torch.nn.functional as F\n",
    "\n",
    "\n",
    "class Net(nn.Module):\n",
    "    def __init__(self):\n",
    "        super().__init__()\n",
    "        self.conv1 = nn.Conv2d(3, 6, 5)\n",
    "        self.pool = nn.MaxPool2d(2, 2)\n",
    "        self.conv2 = nn.Conv2d(6, 16, 5)\n",
    "        self.fc1 = nn.Linear(43680, 120)\n",
    "        self.fc2 = nn.Linear(120, 84)\n",
    "        self.fc3 = nn.Linear(84, 10)\n",
    "\n",
    "    def forward(self, x):\n",
    "        x = self.pool(F.relu(self.conv1(x)))\n",
    "        x = self.pool(F.relu(self.conv2(x)))\n",
    "        x = torch.flatten(x, 1) # flatten all dimensions except batch\n",
    "        x = F.relu(self.fc1(x))\n",
    "        x = F.relu(self.fc2(x))\n",
    "        x = self.fc3(x)\n",
    "        return x\n",
    "\n",
    "\n",
    "net = Net()"
   ]
  },
  {
   "cell_type": "markdown",
   "metadata": {},
   "source": [
    "## Loss function and optimizer\n"
   ]
  },
  {
   "cell_type": "code",
   "execution_count": 19,
   "metadata": {},
   "outputs": [],
   "source": [
    "import torch.optim as optim\n",
    "\n",
    "criterion = nn.CrossEntropyLoss()\n",
    "optimizer = optim.SGD(net.parameters(), lr=0.001, momentum=0.9)"
   ]
  },
  {
   "cell_type": "markdown",
   "metadata": {},
   "source": [
    "## Train the network"
   ]
  },
  {
   "cell_type": "markdown",
   "metadata": {},
   "source": [
    "### Train in GPU"
   ]
  },
  {
   "cell_type": "code",
   "execution_count": 20,
   "metadata": {},
   "outputs": [
    {
     "name": "stdout",
     "output_type": "stream",
     "text": [
      "cuda:0\n"
     ]
    }
   ],
   "source": [
    "device = torch.device('cuda:0' if torch.cuda.is_available() else 'cpu')\n",
    "\n",
    "# Assuming that we are on a CUDA machine, this should print a CUDA device:\n",
    "\n",
    "print(device)"
   ]
  },
  {
   "cell_type": "code",
   "execution_count": 21,
   "metadata": {},
   "outputs": [
    {
     "data": {
      "text/plain": [
       "Net(\n",
       "  (conv1): Conv2d(3, 6, kernel_size=(5, 5), stride=(1, 1))\n",
       "  (pool): MaxPool2d(kernel_size=2, stride=2, padding=0, dilation=1, ceil_mode=False)\n",
       "  (conv2): Conv2d(6, 16, kernel_size=(5, 5), stride=(1, 1))\n",
       "  (fc1): Linear(in_features=43680, out_features=120, bias=True)\n",
       "  (fc2): Linear(in_features=120, out_features=84, bias=True)\n",
       "  (fc3): Linear(in_features=84, out_features=10, bias=True)\n",
       ")"
      ]
     },
     "execution_count": 21,
     "metadata": {},
     "output_type": "execute_result"
    }
   ],
   "source": [
    "net.to(device)"
   ]
  },
  {
   "cell_type": "code",
   "execution_count": 42,
   "metadata": {},
   "outputs": [
    {
     "name": "stdout",
     "output_type": "stream",
     "text": [
      "cuda:0\n"
     ]
    },
    {
     "name": "stderr",
     "output_type": "stream",
     "text": [
      "Epoch: 1/25: 100%|██████████| 169/169 [00:07<00:00, 22.39batch/s, loss=0.502]\n",
      "Epoch: 2/25: 100%|██████████| 169/169 [00:07<00:00, 21.77batch/s, loss=0.477]\n",
      "Epoch: 3/25: 100%|██████████| 169/169 [00:07<00:00, 21.21batch/s, loss=0.47] \n",
      "Epoch: 4/25: 100%|██████████| 169/169 [00:07<00:00, 21.46batch/s, loss=0.46] \n",
      "Epoch: 5/25: 100%|██████████| 169/169 [00:07<00:00, 21.50batch/s, loss=0.449]\n",
      "Epoch: 6/25: 100%|██████████| 169/169 [00:07<00:00, 21.36batch/s, loss=0.438]\n",
      "Epoch: 7/25: 100%|██████████| 169/169 [00:07<00:00, 21.36batch/s, loss=0.414]\n",
      "Epoch: 8/25: 100%|██████████| 169/169 [00:07<00:00, 22.21batch/s, loss=0.392]\n",
      "Epoch: 9/25: 100%|██████████| 169/169 [00:07<00:00, 22.84batch/s, loss=0.347]\n",
      "Epoch: 10/25: 100%|██████████| 169/169 [00:07<00:00, 22.72batch/s, loss=0.278]\n",
      "Epoch: 11/25: 100%|██████████| 169/169 [00:07<00:00, 22.73batch/s, loss=0.191]\n",
      "Epoch: 12/25: 100%|██████████| 169/169 [00:07<00:00, 22.25batch/s, loss=0.123]\n",
      "Epoch: 13/25: 100%|██████████| 169/169 [00:08<00:00, 20.97batch/s, loss=0.091] \n",
      "Epoch: 14/25: 100%|██████████| 169/169 [00:08<00:00, 21.05batch/s, loss=0.0614]\n",
      "Epoch: 15/25: 100%|██████████| 169/169 [00:07<00:00, 22.10batch/s, loss=0.0497]\n",
      "Epoch: 16/25: 100%|██████████| 169/169 [00:07<00:00, 22.09batch/s, loss=0.0397]\n",
      "Epoch: 17/25: 100%|██████████| 169/169 [00:07<00:00, 22.03batch/s, loss=0.0322]\n",
      "Epoch: 18/25: 100%|██████████| 169/169 [00:07<00:00, 21.64batch/s, loss=0.0271]\n",
      "Epoch: 19/25: 100%|██████████| 169/169 [00:07<00:00, 21.56batch/s, loss=0.0291]\n",
      "Epoch: 20/25: 100%|██████████| 169/169 [00:07<00:00, 21.58batch/s, loss=0.0223]\n",
      "Epoch: 21/25: 100%|██████████| 169/169 [00:07<00:00, 21.66batch/s, loss=0.0221]\n",
      "Epoch: 22/25: 100%|██████████| 169/169 [00:08<00:00, 20.73batch/s, loss=0.0196]\n",
      "Epoch: 23/25: 100%|██████████| 169/169 [00:07<00:00, 21.93batch/s, loss=0.0207]\n",
      "Epoch: 24/25: 100%|██████████| 169/169 [00:07<00:00, 22.22batch/s, loss=0.0188]\n",
      "Epoch: 25/25: 100%|██████████| 169/169 [00:07<00:00, 22.50batch/s, loss=0.0162]\n"
     ]
    },
    {
     "name": "stdout",
     "output_type": "stream",
     "text": [
      "-----------------------------------------------\n",
      "[System Complete: 0:04:14.258243]\n"
     ]
    }
   ],
   "source": [
    "import matplotlib.pyplot as plt\n",
    "import seaborn as sb\n",
    "\n",
    "import time\n",
    "\n",
    "from datetime import timedelta\n",
    "from tqdm import tqdm\n",
    "\n",
    "from sklearn import metrics\n",
    "from sklearn.metrics import confusion_matrix\n",
    "from collections import defaultdict\n",
    "import torch.optim as optim\n",
    "\n",
    "net = Net()\n",
    "\n",
    "criterion = nn.CrossEntropyLoss()\n",
    "optimizer = optim.SGD(net.parameters(), lr=0.001, momentum=0.9)\n",
    "\n",
    "device = torch.device('cuda:0' if torch.cuda.is_available() else 'cpu')\n",
    "# Assuming that we are on a CUDA machine, this should print a CUDA device:\n",
    "print(device)\n",
    "\n",
    "net.to(device)\n",
    "\n",
    "history = {'train_loss':[],\n",
    "           'valid_loss':[]}\n",
    "           \n",
    "epochs = 25\n",
    "\n",
    "start = time.time()\n",
    "for epoch in range(epochs):\n",
    "\n",
    "    training_loss = 0.0\n",
    "    net.train()\n",
    "    \n",
    "    with tqdm(trainloader, unit=\"batch\") as tepoch:\n",
    "        for bx, (inputs, labels) in enumerate(tepoch, 0):\n",
    "            \n",
    "            tepoch.set_description(f'Epoch: {epoch+1}/{epochs}')\n",
    "\n",
    "            inputs, labels = inputs.to(device), labels.to(device)\n",
    "            \n",
    "            # predictions\n",
    "            outputs = net(inputs)\n",
    "            \n",
    "            # Backpropagation\n",
    "            loss = criterion(outputs, labels)\n",
    "            optimizer.zero_grad()\n",
    "            loss.backward()\n",
    "            optimizer.step()\n",
    "            \n",
    "            # Metric\n",
    "            training_loss += loss.item()\n",
    "            \n",
    "            # Update progress bar\n",
    "            progress_loss = training_loss / ((bx+1) * batch_size)\n",
    "            tepoch.set_postfix(loss=progress_loss)\n",
    "            \n",
    "    epoch_loss = training_loss/len(trainset)\n",
    "    history['train_loss'].append(epoch_loss)\n",
    "\n",
    "    valid_loss = 0.0\n",
    "    net.eval()     # Optional when not using Model Specific layer\n",
    "    for inputs, labels in testloader:\n",
    "\n",
    "        inputs, labels = inputs.to(device), labels.to(device)\n",
    "            \n",
    "        outputs = net(inputs)\n",
    "        loss = criterion(outputs,labels)\n",
    "\n",
    "        valid_loss += loss.item()\n",
    "\n",
    "    epoch_loss = valid_loss/len(testset) \n",
    "    history['valid_loss'].append(epoch_loss)  \n",
    "\n",
    "end = time.time()\n",
    "print('-----------------------------------------------')\n",
    "print('[System Complete: {}]'.format(timedelta(seconds=end-start)))"
   ]
  },
  {
   "cell_type": "code",
   "execution_count": 43,
   "metadata": {},
   "outputs": [
    {
     "data": {
      "image/png": "[encoded data removed]",
      "text/plain": [
       "<Figure size 432x288 with 1 Axes>"
      ]
     },
     "metadata": {
      "needs_background": "light"
     },
     "output_type": "display_data"
    }
   ],
   "source": [
    "# summarize history for accuracy\n",
    "# plt.plot(history['accuracy'])\n",
    "# plt.plot(history['val_accuracy'])\n",
    "# plt.title('model accuracy')\n",
    "# plt.ylabel('accuracy')\n",
    "# plt.xlabel('epoch')\n",
    "# plt.legend(['train', 'test'], loc='upper left')\n",
    "# plt.show()\n",
    "# summarize history for loss\n",
    "plt.plot(history['train_loss'])\n",
    "plt.plot(history['valid_loss'])\n",
    "plt.title('model loss')\n",
    "plt.ylabel('loss')\n",
    "plt.xlabel('epoch')\n",
    "plt.legend(['train', 'val'], loc='upper left')\n",
    "plt.show()"
   ]
  },
  {
   "cell_type": "code",
   "execution_count": 46,
   "metadata": {},
   "outputs": [
    {
     "name": "stdout",
     "output_type": "stream",
     "text": [
      "[0.497927435570293, 0.48489439818594193, 0.4572805373205079, 0.44195980413092506, 0.4264718372788694, 0.40876305372350746, 0.39175396660963696, 0.33858318461312187, 0.28304990950144, 0.1839025259638826, 0.1297648704300324, 0.11441266699209034, 0.05528244191534921, 0.03750726319651676, 0.03973994463578694, 0.023812891508972218, 0.020111300565481036, 0.025042572163553385, 0.01838600816861597, 0.018212868264198632, 0.015490682511376185, 0.014749173791222524, 0.015100392488723932, 0.014259855184314397, 0.013132633847994334]\n"
     ]
    }
   ],
   "source": [
    "print(history['valid_loss'])"
   ]
  },
  {
   "cell_type": "markdown",
   "metadata": {},
   "source": [
    "## Save the model"
   ]
  },
  {
   "cell_type": "code",
   "execution_count": 47,
   "metadata": {},
   "outputs": [],
   "source": [
    "PATH = 'saved_models/watch_net_tloss0.0162_vloss0.0131.pth'\n",
    "torch.save(net.state_dict(), PATH)"
   ]
  },
  {
   "cell_type": "markdown",
   "metadata": {},
   "source": [
    "## Test the network on the test data"
   ]
  },
  {
   "cell_type": "code",
   "execution_count": 66,
   "metadata": {},
   "outputs": [],
   "source": [
    "dataiter = iter(testloader)"
   ]
  },
  {
   "cell_type": "code",
   "execution_count": 109,
   "metadata": {},
   "outputs": [
    {
     "data": {
      "image/png": "[encoded data removed]",
      "text/plain": [
       "<Figure size 432x288 with 1 Axes>"
      ]
     },
     "metadata": {
      "needs_background": "light"
     },
     "output_type": "display_data"
    },
    {
     "name": "stdout",
     "output_type": "stream",
     "text": [
      "GroundTruth:  1     2     2     2    \n"
     ]
    }
   ],
   "source": [
    "\n",
    "images, labels = dataiter.next()\n",
    "\n",
    "# print images\n",
    "imshow(torchvision.utils.make_grid(images))\n",
    "print('GroundTruth: ', ' '.join(f'{classes[labels[j]]:5s}' for j in range(4)))"
   ]
  },
  {
   "cell_type": "code",
   "execution_count": 93,
   "metadata": {},
   "outputs": [
    {
     "data": {
      "text/plain": [
       "<All keys matched successfully>"
      ]
     },
     "execution_count": 93,
     "metadata": {},
     "output_type": "execute_result"
    }
   ],
   "source": [
    "net = Net()\n",
    "net.load_state_dict(torch.load(PATH))"
   ]
  },
  {
   "cell_type": "code",
   "execution_count": 110,
   "metadata": {},
   "outputs": [],
   "source": [
    "outputs = net(images)"
   ]
  },
  {
   "cell_type": "code",
   "execution_count": 111,
   "metadata": {},
   "outputs": [
    {
     "name": "stdout",
     "output_type": "stream",
     "text": [
      "Predicted:  1     2     2     2    \n"
     ]
    }
   ],
   "source": [
    "classes = tuple(str(num_class) for num_class in range(10))\n",
    "_, predicted = torch.max(outputs, 1)\n",
    "\n",
    "print('Predicted: ', ' '.join(f'{classes[predicted[j]]:5s}'\n",
    "                              for j in range(4)))"
   ]
  },
  {
   "cell_type": "code",
   "execution_count": 56,
   "metadata": {},
   "outputs": [
    {
     "name": "stdout",
     "output_type": "stream",
     "text": [
      "Accuracy of the network on the 10000 test images: 97 %\n"
     ]
    }
   ],
   "source": [
    "correct = 0\n",
    "total = 0\n",
    "# since we're not training, we don't need to calculate the gradients for our outputs\n",
    "with torch.no_grad():\n",
    "    for data in testloader:\n",
    "        images, labels = data\n",
    "        # calculate outputs by running images through the network\n",
    "        outputs = net(images)\n",
    "        # the class with the highest energy is what we choose as prediction\n",
    "        _, predicted = torch.max(outputs.data, 1)\n",
    "        total += labels.size(0)\n",
    "        correct += (predicted == labels).sum().item()\n",
    "\n",
    "print(f'Accuracy of the network on the 10000 test images: {100 * correct // total} %')"
   ]
  },
  {
   "cell_type": "code",
   "execution_count": null,
   "metadata": {},
   "outputs": [],
   "source": [
    "# prepare to count predictions for each class\n",
    "correct_pred = {classname: 0 for classname in classes}\n",
    "total_pred = {classname: 0 for classname in classes}\n",
    "\n",
    "# again no gradients needed\n",
    "with torch.no_grad():\n",
    "    for data in testloader:\n",
    "        images, labels = data\n",
    "        outputs = net(images)\n",
    "        _, predictions = torch.max(outputs, 1)\n",
    "        # collect the correct predictions for each class\n",
    "        for label, prediction in zip(labels, predictions):\n",
    "            if label == prediction:\n",
    "                correct_pred[classes[label]] += 1\n",
    "            total_pred[classes[label]] += 1\n",
    "\n",
    "\n",
    "# print accuracy for each class\n",
    "for classname, correct_count in correct_pred.items():\n",
    "    accuracy = 100 * float(correct_count) / total_pred[classname]\n",
    "    print(f'Accuracy for class: {classname:5s} is {accuracy:.1f} %')"
   ]
  }
 ],
 "metadata": {
  "kernelspec": {
   "display_name": "Python 3.9.12 ('featScraper')",
   "language": "python",
   "name": "python3"
  },
  "language_info": {
   "codemirror_mode": {
    "name": "ipython",
    "version": 3
   },
   "file_extension": ".py",
   "mimetype": "text/x-python",
   "name": "python",
   "nbconvert_exporter": "python",
   "pygments_lexer": "ipython3",
   "version": "3.9.12"
  },
  "orig_nbformat": 4,
  "vscode": {
   "interpreter": {
    "hash": "4e1a5b52616bfde76b21cf6b4108e90b83c79be62a01286ae2d329caa479ad7a"
   }
  }
 },
 "nbformat": 4,
 "nbformat_minor": 2
}
